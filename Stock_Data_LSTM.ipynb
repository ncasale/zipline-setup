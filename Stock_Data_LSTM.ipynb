{
 "cells": [
  {
   "cell_type": "code",
   "execution_count": 2,
   "metadata": {},
   "outputs": [],
   "source": [
    "# Pytorch Imports\n",
    "import numpy as np\n",
    "import torch\n",
    "from torch import nn, optim\n",
    "import torch.nn.functional as F\n",
    "import torch.utils.data\n",
    "import pandas as pd\n",
    "import datetime\n",
    "import time"
   ]
  },
  {
   "cell_type": "markdown",
   "metadata": {},
   "source": [
    "# Generate Data and Dataloader"
   ]
  },
  {
   "cell_type": "code",
   "execution_count": 4,
   "metadata": {},
   "outputs": [],
   "source": [
    "# Function to generate two csv files for training/testing\n",
    "def get_stock_data(file_name):\n",
    "    ''' \n",
    "        Will divide a dataset into both test and training sets\n",
    "        \n",
    "        Args:\n",
    "        \n",
    "        file_name (string): path to the csv file containing all data\n",
    "        percent_test (float): percentage of dataset to set aside for testing\n",
    "        \n",
    "        returns nothing\n",
    "    '''\n",
    "    # Open file and place into dataframe\n",
    "    columns = ['date', 'open', 'high', 'low', 'close', 'volume', '50ma', 'label']\n",
    "    stock_data = pd.read_csv(file_name)[columns]\n",
    "    stock_data['date'] = stock_data['date'].apply(lambda x: time.mktime(datetime.datetime.strptime(x, \"%Y-%m-%d\").timetuple()), convert_dtype=True)\n",
    "    stock_data = stock_data.dropna()\n",
    "    return stock_data\n",
    "\n",
    "# Get stock data from csv\n",
    "stock_data = get_stock_data('./data/aapl.csv')"
   ]
  },
  {
   "cell_type": "code",
   "execution_count": 5,
   "metadata": {},
   "outputs": [
    {
     "name": "stdout",
     "output_type": "stream",
     "text": [
      "(1203,)\n",
      "(1203, 6)\n"
     ]
    }
   ],
   "source": [
    "# Get input data and labels\n",
    "signals = stock_data['label'].values\n",
    "daily_data = stock_data.drop(['date', 'label'], axis=1).values\n",
    "\n",
    "print(signals.shape)\n",
    "print(daily_data.shape)"
   ]
  },
  {
   "cell_type": "code",
   "execution_count": 111,
   "metadata": {},
   "outputs": [],
   "source": [
    "def dataloader(daily_data, labels, input_length=6, sequence_length=5, batch_size=10):\n",
    "    # Get total number of days for which we have data -- only want full batches\n",
    "    days_per_batch = batch_size * sequence_length\n",
    "    total_days = (len(daily_data) // days_per_batch) * days_per_batch\n",
    "    \n",
    "    # Iterate through daily data, at intervals of batch_size X sequence_length\n",
    "    for ii in range(0, total_days, days_per_batch):\n",
    "        \n",
    "        # Get all days in this batch\n",
    "        batch_days = daily_data[ii: ii+days_per_batch]\n",
    "        \n",
    "        # Create the batch/label tensor of the right shape (seq_len x batch_size x input_features)\n",
    "        batch = torch.zeros((sequence_length, batch_size, input_length), dtype=torch.float64)\n",
    "        label_data = []\n",
    "        \n",
    "        # Fill out this batch/labels\n",
    "        for batch_num, jj in enumerate(range(0, len(batch_days), sequence_length)):\n",
    "            sequence_tensor = torch.tensor(batch_days[jj:jj+sequence_length])\n",
    "            batch[:, batch_num] = sequence_tensor\n",
    "            \n",
    "            # Only want labels for day at the end of sequence\n",
    "            label_data.append(labels[jj+sequence_length-1])\n",
    "            \n",
    "        # Fill out label tensor\n",
    "        label_tensor = torch.tensor(label_data)\n",
    "        \n",
    "        yield batch, label_tensor"
   ]
  },
  {
   "cell_type": "markdown",
   "metadata": {},
   "source": [
    "# Create test and validation data"
   ]
  },
  {
   "cell_type": "code",
   "execution_count": 114,
   "metadata": {},
   "outputs": [],
   "source": [
    "# Split data into test and validation sets -- will have testing data be first data\n",
    "# in dataset\n",
    "test_prop = 0.2\n",
    "test_end_idx = int(len(daily_data) * test_prop)\n",
    "\n",
    "# Create testing data\n",
    "test_features = daily_data[:test_end_idx]\n",
    "test_labels = signals[:test_end_idx]\n",
    "\n",
    "# Create training data\n",
    "train_features = daily_data[test_end_idx:]\n",
    "train_labels = signals[test_end_idx:]"
   ]
  },
  {
   "cell_type": "code",
   "execution_count": 105,
   "metadata": {},
   "outputs": [
    {
     "name": "stdout",
     "output_type": "stream",
     "text": [
      "torch.Size([5, 10, 6]) torch.Size([10])\n"
     ]
    }
   ],
   "source": [
    "# Test out the dataloader\n",
    "sample_batch, sample_labels = next(iter(dataloader(train_features, train_labels)))\n",
    "print(sample_batch.shape, sample_labels.shape)"
   ]
  },
  {
   "cell_type": "markdown",
   "metadata": {},
   "source": [
    "# Model Definition"
   ]
  },
  {
   "cell_type": "code",
   "execution_count": 37,
   "metadata": {},
   "outputs": [],
   "source": [
    "class StockClassifier(nn.Module):\n",
    "    \n",
    "    def __init__(self, input_length = 6,lstm_size = 64, lstm_layers=1, output_size = 3, \n",
    "                               drop_prob=0.2):\n",
    "        super().__init__()\n",
    "        self.input_length = input_length\n",
    "        self.output_size = output_size\n",
    "        self.lstm_size = lstm_size\n",
    "        self.lstm_layers = lstm_layers\n",
    "        self.drop_prob = drop_prob\n",
    "        \n",
    "        ## TODO: define the LSTM\n",
    "        self.lstm = nn.LSTM(input_length, lstm_size, lstm_layers, \n",
    "                            dropout=drop_prob, batch_first=False)\n",
    "        \n",
    "        ## TODO: define a dropout layer\n",
    "        self.dropout = nn.Dropout(drop_prob)\n",
    "        \n",
    "        ## TODO: define the final, fully-connected output layer\n",
    "        self.fc = nn.Linear(lstm_size, output_size)\n",
    "      \n",
    "    \n",
    "    def forward(self, nn_input, hidden_state):\n",
    "        '''\n",
    "            Perform a forward pass through the network\n",
    "            \n",
    "            Args:\n",
    "                nn_input: the batch of input to NN\n",
    "                hidden_state: The LSTM hidden/cell state tuple\n",
    "                \n",
    "            Returns:\n",
    "                logps: log softmax output\n",
    "                hidden_state: the updated hidden/cell state tuple\n",
    "        '''\n",
    "        # Input -> LSTM\n",
    "        lstm_out, hidden_state = self.lstm(nn_input, hidden)\n",
    "\n",
    "        # Stack up LSTM outputs -- this gets the final LSTM output for each sequence in the batch\n",
    "        lstm_out = lstm_out[-1, :, :]\n",
    "        \n",
    "        # LSTM -> Dense Layer\n",
    "        dense_out = self.dropout(self.fc(lstm_out))\n",
    "        \n",
    "        # Apply Log Softmax to dense output -- sum denominator across columns\n",
    "        logps = F.log_softmax(dense_out, dim=1)\n",
    "                \n",
    "        # Return the final output and the hidden state\n",
    "        return logps, hidden_state\n",
    "    \n",
    "    \n",
    "    def init_hidden(self, batch_size):\n",
    "        ''' Initializes hidden state '''\n",
    "        # Create two new tensors with sizes n_layers x batch_size x n_hidden,\n",
    "        # initialized to zero, for hidden state and cell state of LSTM\n",
    "        weight = next(self.parameters()).data\n",
    "\n",
    "        hidden = (weight.new(self.lstm_layers, batch_size, self.lstm_size).zero_(),\n",
    "              weight.new(self.lstm_layers, batch_size, self.lstm_size).zero_())\n",
    "        \n",
    "        return hidden"
   ]
  },
  {
   "cell_type": "markdown",
   "metadata": {},
   "source": [
    "# Test Model"
   ]
  },
  {
   "cell_type": "code",
   "execution_count": null,
   "metadata": {},
   "outputs": [],
   "source": [
    "model = StockClassifier(input_length=6, lstm_size=8, lstm_layers=1, output_size=3, drop_prob=0.1).double()\n",
    "hidden = model.init_hidden(10)\n",
    "logps, _ = model.forward(batch, hidden)\n",
    "print(logps)"
   ]
  },
  {
   "cell_type": "markdown",
   "metadata": {},
   "source": [
    "# Train Model"
   ]
  },
  {
   "cell_type": "code",
   "execution_count": 38,
   "metadata": {},
   "outputs": [
    {
     "data": {
      "text/plain": [
       "StockClassifier(\n",
       "  (lstm): LSTM(6, 128, num_layers=2, dropout=0.2)\n",
       "  (dropout): Dropout(p=0.2)\n",
       "  (fc): Linear(in_features=128, out_features=3, bias=True)\n",
       ")"
      ]
     },
     "execution_count": 38,
     "metadata": {},
     "output_type": "execute_result"
    }
   ],
   "source": [
    "device = torch.device('cuda' if torch.cuda.is_available() else 'cpu')\n",
    "\n",
    "# Ensure that our model is set to 'double' as our volume value requires Float64\n",
    "model = StockClassifier(input_length=6, lstm_size=128, lstm_layers=2, output_size=3, drop_prob=0.2).double()\n",
    "model.to(device)"
   ]
  },
  {
   "cell_type": "code",
   "execution_count": 115,
   "metadata": {},
   "outputs": [
    {
     "name": "stdout",
     "output_type": "stream",
     "text": [
      "Starting Epoch 1\n",
      "Epoch: 1/1... Step: 10... Train Loss: 0.609900... Val Loss: 0.816253... Accuracy: 2.083333%...\n",
      "Epoch: 1/1... Step: 20... Train Loss: 0.562413... Val Loss: 0.842489... Accuracy: 0.000000%...\n",
      "Epoch: 1/1... Step: 30... Train Loss: 0.588911... Val Loss: 0.589054... Accuracy: 97.916667%...\n",
      "Epoch: 1/1... Step: 40... Train Loss: 0.663687... Val Loss: 0.561035... Accuracy: 85.416667%...\n",
      "Epoch: 1/1... Step: 50... Train Loss: 0.650729... Val Loss: 0.776855... Accuracy: 35.416667%...\n",
      "Epoch: 1/1... Step: 60... Train Loss: 0.466971... Val Loss: 0.847237... Accuracy: 27.083333%...\n",
      "Epoch: 1/1... Step: 70... Train Loss: 0.681019... Val Loss: 1.047770... Accuracy: 0.000000%...\n",
      "Epoch: 1/1... Step: 80... Train Loss: 0.667817... Val Loss: 0.799426... Accuracy: 27.083333%...\n",
      "Epoch: 1/1... Step: 90... Train Loss: 0.738087... Val Loss: 0.737807... Accuracy: 37.500000%...\n"
     ]
    }
   ],
   "source": [
    "epochs = 1\n",
    "batch_size = 2\n",
    "learning_rate = 0.003\n",
    "clip = 5\n",
    "\n",
    "print_every = 10\n",
    "criterion = nn.NLLLoss()\n",
    "optimizer = optim.Adam(model.parameters(), lr=learning_rate)\n",
    "model.train()\n",
    "\n",
    "for epoch in range(epochs):\n",
    "    print('Starting Epoch {}'.format(epoch+1))\n",
    "    steps = 0\n",
    "    \n",
    "    for train_batch, labels in dataloader(train_features, train_labels, batch_size=batch_size, input_length=6):\n",
    "        steps += 1\n",
    "        \n",
    "        #print(\"Train Batch: \", train_batch.shape, \"Labels Size: \", labels.shape)\n",
    "        \n",
    "        # Initialize Hidden/Cell state -- batch size is dynamic to account for batches that are not full\n",
    "        hidden = model.init_hidden(train_batch.shape[1])\n",
    "        hidden = tuple([each.data for each in hidden])\n",
    "        \n",
    "        # Set tensors to correct device -- GPU or CPU\n",
    "        train_batch, train_labels = train_batch.to(device), labels.to(device)\n",
    "        for each in hidden:\n",
    "            each.to(device)\n",
    "            \n",
    "        # Zero out gradients\n",
    "        optimizer.zero_grad()\n",
    "        \n",
    "        # Run data through model -- output is output and new hidden/cell state\n",
    "        output, hidden = model(train_batch, hidden)\n",
    "        \n",
    "        # Calculate loss and perform back prop -- clip grads if necessary\n",
    "        loss = criterion(output, train_labels)\n",
    "        loss.backward()\n",
    "        nn.utils.clip_grad_norm_(model.parameters(), clip)\n",
    "        \n",
    "        # Take optimizer step\n",
    "        optimizer.step()\n",
    "        \n",
    "        # VALIDATION OF MODEL#\n",
    "        if steps % print_every == 0:\n",
    "            model.eval()\n",
    "            val_losses = []\n",
    "            accuracy = []\n",
    "            with torch.no_grad():\n",
    "                for val_batch, val_labels in dataloader(test_features, test_labels, batch_size=batch_size, input_length=6):\n",
    "\n",
    "                    #Init hidden state -- again we have a dynamic batch size here\n",
    "                    val_hidden = model.init_hidden(val_batch.shape[1])\n",
    "                    val_hidden = tuple([each.data for each in val_hidden])\n",
    "\n",
    "                    # Set device for tensors\n",
    "                    val_batch, val_labels = val_batch.to(device), val_labels.to(device)\n",
    "                    for each in val_hidden:\n",
    "                        each.to(device)\n",
    "\n",
    "                    # Run data through network\n",
    "                    val_out, val_hidden = model(val_batch, val_hidden)\n",
    "\n",
    "                    # Calculate and record loss\n",
    "                    val_loss = criterion(val_out, val_labels)\n",
    "                    val_losses.append(val_loss.item())\n",
    "\n",
    "                    # Calculate accuracy of predictions\n",
    "                    ps = torch.exp(val_out)\n",
    "                    top_p, top_class = ps.topk(1, dim=1)\n",
    "                    equals = top_class == val_labels.view(*top_class.shape)\n",
    "                    accuracy.append(torch.mean(equals.type(torch.FloatTensor)).item())\n",
    "\n",
    "            # Print out metrics\n",
    "            print('Epoch: {}/{}...'.format(epoch+1, epochs),\n",
    "                  'Step: {}...'.format(steps),\n",
    "                  'Train Loss: {:.6f}...'.format(loss.item()),\n",
    "                  'Val Loss: {:.6f}...'.format(np.mean(val_losses)),\n",
    "                  'Accuracy: {:.6f}%...'.format(np.mean(accuracy) * 100))\n",
    "            \n",
    "            # Set back to training mode\n",
    "            model.train()"
   ]
  },
  {
   "cell_type": "markdown",
   "metadata": {},
   "source": [
    "The training loop will error out if you try to run it multiple times. This happens because the state of the dataloaders has not changed since the last run, and therefore you'll run out of data very quickly. When this happens, go back to the 'Create test and validation data' cell and re-run. This will reset the data in the generators and allow you to try and train again."
   ]
  },
  {
   "cell_type": "code",
   "execution_count": null,
   "metadata": {},
   "outputs": [],
   "source": []
  }
 ],
 "metadata": {
  "kernelspec": {
   "display_name": "Python [default]",
   "language": "python",
   "name": "python3"
  },
  "language_info": {
   "codemirror_mode": {
    "name": "ipython",
    "version": 3
   },
   "file_extension": ".py",
   "mimetype": "text/x-python",
   "name": "python",
   "nbconvert_exporter": "python",
   "pygments_lexer": "ipython3",
   "version": "3.5.6"
  }
 },
 "nbformat": 4,
 "nbformat_minor": 2
}
