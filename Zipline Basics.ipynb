{
 "cells": [
  {
   "cell_type": "markdown",
   "metadata": {},
   "source": [
    "# Setup Empty Pipeline with Screen\n"
   ]
  },
  {
   "cell_type": "code",
   "execution_count": 1,
   "metadata": {},
   "outputs": [],
   "source": [
    "# import resources\n",
    "from zipline.pipeline import Pipeline\n",
    "from zipline.pipeline.factors import AverageDollarVolume\n",
    "\n",
    "# Create a screen for our Pipeline\n",
    "universe = AverageDollarVolume(window_length=60) > 50000\n",
    "\n",
    "# Create an empty Pipeline with the given screen\n",
    "pipeline = Pipeline(screen=universe)"
   ]
  },
  {
   "cell_type": "markdown",
   "metadata": {},
   "source": [
    "# Setup Zipline Engine"
   ]
  },
  {
   "cell_type": "code",
   "execution_count": 2,
   "metadata": {},
   "outputs": [],
   "source": [
    "import helper\n",
    "from zipline.utils.calendars import get_calendar\n",
    "from zipline.data import bundles\n",
    "\n",
    "# Name of bundle\n",
    "EOD_BUNDLE_NAME = 'quantopian-quandl'\n",
    "\n",
    "# Load the data bundle\n",
    "bundle_data = bundles.load(EOD_BUNDLE_NAME)\n",
    "\n",
    "# Setup the engine to look at the top 500 stocks who have had the highest rolling Average Dollar Volume\n",
    "# over a 120-day window -- This is arbitrary and we can use this parameter to refine which stocks we\n",
    "# want in our universe\n",
    "universe = AverageDollarVolume(window_length=120).top(500) \n",
    "\n",
    "# Select the trading calendar that will be used as a reference when slicing the data\n",
    "trading_calendar = get_calendar('NYSE') \n",
    "\n",
    "# Load the bundle we configured in the previous step into the engine\n",
    "bundle_data = bundles.load(EOD_BUNDLE_NAME)\n",
    "\n",
    "# Create the engine -- the details of this function are in the utils.py file\n",
    "engine = helper.build_pipeline_engine(bundle_data, trading_calendar)"
   ]
  },
  {
   "cell_type": "markdown",
   "metadata": {},
   "source": [
    "# View Pipeline as Graph"
   ]
  },
  {
   "cell_type": "code",
   "execution_count": 3,
   "metadata": {},
   "outputs": [
    {
     "data": {
      "image/svg+xml": [
       "<svg height=\"287pt\" viewBox=\"0.00 0.00 397.00 287.00\" width=\"397pt\" xmlns=\"http://www.w3.org/2000/svg\" xmlns:xlink=\"http://www.w3.org/1999/xlink\">\n",
       "<g class=\"graph\" id=\"graph0\" transform=\"scale(1 1) rotate(0) translate(4 283)\">\n",
       "<title>G</title>\n",
       "<polygon fill=\"#ffffff\" points=\"-4,4 -4,-283 393,-283 393,4 -4,4\" stroke=\"transparent\"/>\n",
       "<g class=\"cluster\" id=\"clust1\">\n",
       "<title>cluster_Output</title>\n",
       "<polygon fill=\"#ffec8b\" points=\"124,-8 124,-85 264,-85 264,-8 124,-8\" stroke=\"#ffec8b\"/>\n",
       "<text fill=\"#000000\" font-family=\"Times,serif\" font-size=\"14.00\" text-anchor=\"middle\" x=\"194\" y=\"-15.8\">Output</text>\n",
       "</g>\n",
       "<g class=\"cluster\" id=\"clust2\">\n",
       "<title>cluster_Input</title>\n",
       "<polygon fill=\"#ffec8b\" points=\"8,-179 8,-271 381,-271 381,-179 8,-179\" stroke=\"#ffec8b\"/>\n",
       "<text fill=\"#000000\" font-family=\"Times,serif\" font-size=\"14.00\" text-anchor=\"middle\" x=\"194.5\" y=\"-255.8\">Input</text>\n",
       "</g>\n",
       "<!-- 4466087416 -->\n",
       "<g class=\"node\" id=\"node1\">\n",
       "<title>4466087416</title>\n",
       "<polygon fill=\"#ccebc5\" points=\"256,-77 132,-77 132,-39 256,-39 256,-77\" stroke=\"#000000\"/>\n",
       "<text fill=\"#000000\" font-family=\"Times,serif\" font-size=\"14.00\" text-anchor=\"start\" x=\"140\" y=\"-61.8\">Expression:</text>\n",
       "<text fill=\"#000000\" font-family=\"Times,serif\" font-size=\"14.00\" text-anchor=\"start\" x=\"140\" y=\"-46.8\">  x_0 &gt; (5.00E+04)</text>\n",
       "</g>\n",
       "<!-- 4911160960 -->\n",
       "<g class=\"node\" id=\"node2\">\n",
       "<title>4911160960</title>\n",
       "<polygon fill=\"#fbb4ae\" points=\"372.5,-240 203.5,-240 203.5,-187 372.5,-187 372.5,-240\" stroke=\"#000000\"/>\n",
       "<text fill=\"#000000\" font-family=\"Times,serif\" font-size=\"14.00\" text-anchor=\"start\" x=\"211.5\" y=\"-224.8\">BoundColumn:</text>\n",
       "<text fill=\"#000000\" font-family=\"Times,serif\" font-size=\"14.00\" text-anchor=\"start\" x=\"211.5\" y=\"-209.8\">  Dataset: USEquityPricing</text>\n",
       "<text fill=\"#000000\" font-family=\"Times,serif\" font-size=\"14.00\" text-anchor=\"start\" x=\"211.5\" y=\"-194.8\">  Column: close</text>\n",
       "</g>\n",
       "<!-- 4468037392 -->\n",
       "<g class=\"node\" id=\"node4\">\n",
       "<title>4468037392</title>\n",
       "<polygon fill=\"#b3cde3\" points=\"268.5,-151 119.5,-151 119.5,-113 268.5,-113 268.5,-151\" stroke=\"#000000\"/>\n",
       "<text fill=\"#000000\" font-family=\"Times,serif\" font-size=\"14.00\" text-anchor=\"start\" x=\"127.5\" y=\"-135.8\">AverageDollarVolume:</text>\n",
       "<text fill=\"#000000\" font-family=\"Times,serif\" font-size=\"14.00\" text-anchor=\"start\" x=\"127.5\" y=\"-120.8\">  window_length: 60</text>\n",
       "</g>\n",
       "<!-- 4911160960&#45;&gt;4468037392 -->\n",
       "<g class=\"edge\" id=\"edge2\">\n",
       "<title>4911160960-&gt;4468037392</title>\n",
       "<path d=\"M236,-186.8139C236,-186.8139 236,-161.2531 236,-161.2531\" fill=\"none\" stroke=\"#000000\"/>\n",
       "<polygon fill=\"#000000\" points=\"239.5001,-161.253 236,-151.2531 232.5001,-161.2531 239.5001,-161.253\" stroke=\"#000000\"/>\n",
       "</g>\n",
       "<!-- 4911269088 -->\n",
       "<g class=\"node\" id=\"node3\">\n",
       "<title>4911269088</title>\n",
       "<polygon fill=\"#fbb4ae\" points=\"185.5,-240 16.5,-240 16.5,-187 185.5,-187 185.5,-240\" stroke=\"#000000\"/>\n",
       "<text fill=\"#000000\" font-family=\"Times,serif\" font-size=\"14.00\" text-anchor=\"start\" x=\"24.5\" y=\"-224.8\">BoundColumn:</text>\n",
       "<text fill=\"#000000\" font-family=\"Times,serif\" font-size=\"14.00\" text-anchor=\"start\" x=\"24.5\" y=\"-209.8\">  Dataset: USEquityPricing</text>\n",
       "<text fill=\"#000000\" font-family=\"Times,serif\" font-size=\"14.00\" text-anchor=\"start\" x=\"24.5\" y=\"-194.8\">  Column: volume</text>\n",
       "</g>\n",
       "<!-- 4911269088&#45;&gt;4468037392 -->\n",
       "<g class=\"edge\" id=\"edge3\">\n",
       "<title>4911269088-&gt;4468037392</title>\n",
       "<path d=\"M152.5,-186.8139C152.5,-186.8139 152.5,-161.2531 152.5,-161.2531\" fill=\"none\" stroke=\"#000000\"/>\n",
       "<polygon fill=\"#000000\" points=\"156.0001,-161.253 152.5,-151.2531 149.0001,-161.2531 156.0001,-161.253\" stroke=\"#000000\"/>\n",
       "</g>\n",
       "<!-- 4468037392&#45;&gt;4466087416 -->\n",
       "<g class=\"edge\" id=\"edge1\">\n",
       "<title>4468037392-&gt;4466087416</title>\n",
       "<path d=\"M194,-112.9432C194,-112.9432 194,-87.2495 194,-87.2495\" fill=\"none\" stroke=\"#000000\"/>\n",
       "<polygon fill=\"#000000\" points=\"197.5001,-87.2494 194,-77.2495 190.5001,-87.2495 197.5001,-87.2494\" stroke=\"#000000\"/>\n",
       "</g>\n",
       "</g>\n",
       "</svg>"
      ],
      "text/plain": [
       "<IPython.core.display.SVG object>"
      ]
     },
     "execution_count": 3,
     "metadata": {},
     "output_type": "execute_result"
    }
   ],
   "source": [
    "import graphviz\n",
    "\n",
    "# Render the pipeline as a DAG\n",
    "pipeline.show_graph()"
   ]
  },
  {
   "cell_type": "markdown",
   "metadata": {},
   "source": [
    "# Run Pipeline Engine"
   ]
  },
  {
   "cell_type": "code",
   "execution_count": 4,
   "metadata": {},
   "outputs": [],
   "source": [
    "import pandas as pd\n",
    "\n",
    "# Set the start and end dates\n",
    "start_date = pd.Timestamp('2016-01-05', tz = 'utc')\n",
    "end_date = pd.Timestamp('2016-01-05', tz = 'utc')\n",
    "\n",
    "# Run our pipeline for the given start and end dates\n",
    "pipeline_output = engine.run_pipeline(pipeline, start_date, end_date)"
   ]
  },
  {
   "cell_type": "markdown",
   "metadata": {},
   "source": [
    "# Get Universe Tickers"
   ]
  },
  {
   "cell_type": "code",
   "execution_count": 16,
   "metadata": {},
   "outputs": [],
   "source": [
    "# Get the values in index level 1 and save them to a list\n",
    "universe_tickers = pipeline_output.index.get_level_values(1).values.tolist()"
   ]
  },
  {
   "cell_type": "markdown",
   "metadata": {},
   "source": [
    "# Create Data Portal"
   ]
  },
  {
   "cell_type": "code",
   "execution_count": 6,
   "metadata": {},
   "outputs": [],
   "source": [
    "from zipline.data.data_portal import DataPortal\n",
    "\n",
    "# Create a data portal\n",
    "data_portal = DataPortal(bundle_data.asset_finder,\n",
    "                         trading_calendar = trading_calendar,\n",
    "                         first_trading_day = bundle_data.equity_daily_bar_reader.first_trading_day,\n",
    "                         equity_daily_reader = bundle_data.equity_daily_bar_reader,\n",
    "                         adjustment_reader = bundle_data.adjustment_reader)"
   ]
  },
  {
   "cell_type": "markdown",
   "metadata": {},
   "source": [
    "# View Historical Data\n",
    "\n",
    "Get the OHLC + V data for a given time period. This data will be split into individual dataframes."
   ]
  },
  {
   "cell_type": "code",
   "execution_count": 7,
   "metadata": {
    "scrolled": true
   },
   "outputs": [],
   "source": [
    "def get_field_data(data_portal, trading_calendar, assets, start_date, end_date, field):\n",
    "    \n",
    "    # Set the given start and end dates to Timestamps. The frequency string C is used to\n",
    "    # indicate that a CustomBusinessDay DateOffset is used\n",
    "    end_dt = pd.Timestamp(end_date, tz='UTC', freq='C')\n",
    "    start_dt = pd.Timestamp(start_date, tz='UTC', freq='C')\n",
    "\n",
    "    # Get the locations of the start and end dates\n",
    "    end_loc = trading_calendar.closes.index.get_loc(end_dt)\n",
    "    start_loc = trading_calendar.closes.index.get_loc(start_dt)\n",
    "\n",
    "    # return the historical data for the given window\n",
    "    return data_portal.get_history_window(assets=assets, end_dt=end_dt, bar_count=end_loc - start_loc,\n",
    "                                          frequency='1d',\n",
    "                                          field=field,\n",
    "                                          data_frequency='daily')\n",
    "\n",
    "# The window of data to obtain\n",
    "start_date = '2015-01-05'\n",
    "end_data = '2016-01-05'\n",
    "\n",
    "# Get the open data\n",
    "open_data = get_field_data(data_portal, trading_calendar, universe_tickers,\n",
    "                          start_date, end_date, 'open')\n",
    "\n",
    "# Get the high data\n",
    "high_data = get_field_data(data_portal, trading_calendar, universe_tickers,\n",
    "                              start_date, end_date, 'high')\n",
    "\n",
    "# Get the low data\n",
    "low_data = get_field_data(data_portal, trading_calendar, universe_tickers,\n",
    "                         start_date, end_date, 'low')\n",
    "\n",
    "# Get the closing data\n",
    "close_data = get_field_data(data_portal, trading_calendar, universe_tickers,\n",
    "                              start_date, end_date, 'close') \n",
    "\n",
    "# Get the volume data\n",
    "volume_data = get_field_data(data_portal, trading_calendar, universe_tickers,\n",
    "                            start_date, end_date, 'volume')"
   ]
  },
  {
   "cell_type": "markdown",
   "metadata": {},
   "source": [
    "# Combine OHLC dataframes into singular dataframe\n",
    "Here we combine the four individual dataframes representing OHLC + V data into one historical dataframe."
   ]
  },
  {
   "cell_type": "code",
   "execution_count": 23,
   "metadata": {},
   "outputs": [],
   "source": [
    "import numpy as np\n",
    "\n",
    "#Create dataframe and append blank row\n",
    "historical_dfs = pd.DataFrame(columns=universe_tickers)\n",
    "historical_dfs = historical_dfs.append(pd.Series([np.nan]), ignore_index=True)\n",
    "\n",
    "# Loop through each universe ticker and create a combined dataframe for that ticker\n",
    "for ticker in universe_tickers:\n",
    "    # Get individual series representing the OHLCV data\n",
    "    open_series = open_data[ticker]\n",
    "    high_series = high_data[ticker]\n",
    "    low_series = low_data[ticker]\n",
    "    close_series = close_data[ticker]\n",
    "    volume_series = volume_data[ticker]\n",
    "    \n",
    "    # Combine these series into 1 dataframe\n",
    "    columns = ['open', 'high', 'low', 'close', 'volume']\n",
    "    df = pd.concat([open_series,high_series, low_series, close_series, volume_series], axis=1)\n",
    "    df.columns = columns    \n",
    "    \n",
    "    # Save this dataframe to historical_dfs\n",
    "    historical_dfs[ticker] = pd.Series([df])\n",
    "    \n",
    "    \n",
    "# Change the columns to be more human readable\n",
    "columns = helper.beautify_tickers(universe_tickers)\n",
    "historical_dfs.columns = columns"
   ]
  },
  {
   "cell_type": "code",
   "execution_count": 24,
   "metadata": {},
   "outputs": [
    {
     "name": "stdout",
     "output_type": "stream",
     "text": [
      "\n",
      "  ABM  (2016-01-05 o: 27.57 h: 27.84 l: 27.55 c: 27.57)\n",
      "  1.00% box, 3 box reversal, hl method\n",
      "  signal: sell status: bear confirmed\n",
      "\n",
      "  33.93|                                                                                |33.93\n",
      "  33.59|                                          x                                     |33.59\n",
      "  33.26|                                      x   u d                                   |33.26\n",
      "  32.93|                                  x   8 d u d                                   |32.93\n",
      "  32.60|                                  6 7 u d u d                                   |32.60\n",
      "  32.28|                                  x d u d   o u                                 |32.28\n",
      "  31.96|                          4   5   u d u     o u d u                             |31.96\n",
      "  31.65|                      x   u d u d u o       o u d u 9                           |31.65\n",
      "  31.33|                      x d u d u d u         o u d u d                           |31.33\n",
      "  31.02|                      x d u d u d           o   d   d                           |31.02\n",
      "  30.71|              x   u   x d   d                       d                           |30.71\n",
      "  30.41|              x d u d x                             o                           |30.41\n",
      "  30.11|              x d 3 d x                             o                           |30.11\n",
      "  29.81|              x d   d x                             o x       x                 |29.81\n",
      "  29.52|      u   u   u     d u                             o u d     x C         x     |29.52\n",
      "  29.22|  x   u d u d u     d u                             o u d     x d u       x d   |29.22\n",
      "  28.93|  x d u d u d u     d u                             o u d x   x d u d u   u d   |28.93\n",
      "  28.65|  x d u d u d       d u                             o u d x d x o u d u d u d   |28.65\n",
      "  28.36|  x d   o u         d                               o   o x d B o   d u d u d   |28.36\n",
      "  28.08|  x     2                                               o x d u     d   d   1   |28.08\n",
      "  27.81|                                                        o u d u             o   |<< 27.57\n",
      "  27.53|                                                        o u d u             o   |27.53\n",
      "  27.26|                                                        o u d u                 |27.26\n",
      "  26.99|                                                        o u d                   |26.99\n",
      "  26.72|                                                        A                       |26.72\n",
      "  26.46|                                                                                |26.46\n",
      "\n"
     ]
    }
   ],
   "source": [
    "from pypf.instrument import DataframeInstrument\n",
    "from pypf.chart import PFChart\n",
    "\n",
    "# Set up dataframe instrument\n",
    "df = historical_dfs['ABM'][0]\n",
    "df.columns = ['Open', 'High', 'Low', 'Close', 'Volume']\n",
    "df['Date'] = df.index.astype(str)\n",
    "df['Date'] = df['Date'].str.slice(0,10)\n",
    "df['Volume'] = df['Volume'].astype(int)\n",
    "dfi = DataframeInstrument('ABM', dataframe=df)\n",
    "\n",
    "# Create pf chart\n",
    "chart = PFChart(dfi)\n",
    "chart.create_chart()\n",
    "print(chart.chart)"
   ]
  },
  {
   "cell_type": "code",
   "execution_count": null,
   "metadata": {},
   "outputs": [],
   "source": [
    "import importlib\n",
    "\n",
    "importlib.reload(pypf)\n",
    "importlib.reload(pypf.instrument)"
   ]
  },
  {
   "cell_type": "markdown",
   "metadata": {},
   "source": [
    "# Create Relative Strength Chart\n",
    "Use the OHLC data for two stocks to create a RS chart. We will calculate the ratio between the closing price of the two securities on a daily basis, and record this price as all four values of OHLC in the new, combined dataframe. This dataframe can then be used to construct a P&F chart of these ratios, giving us a relative strength chart."
   ]
  },
  {
   "cell_type": "code",
   "execution_count": 35,
   "metadata": {},
   "outputs": [
    {
     "name": "stdout",
     "output_type": "stream",
     "text": [
      "\n",
      "  AAPL_MSFT  (2016-01-05 o: 1.87 h: 1.87 l: 1.87 c: 1.87)\n",
      "  1.00% box, 3 box reversal, hl method\n",
      "  signal: sell status: bear confirmed\n",
      "\n",
      "   3.15|                                                |3.15\n",
      "   3.11|                  u                             |3.11\n",
      "   3.08|                  u 4                           |3.08\n",
      "   3.05|              u   u d                           |3.05\n",
      "   3.02|          x   u d u d                           |3.02\n",
      "   2.99|          u 3 u d u o                           |2.99\n",
      "   2.96|          u d u d   o                           |2.96\n",
      "   2.93|      x   u d       o                           |2.93\n",
      "   2.91|      x 2 u         o                           |2.91\n",
      "   2.88|      x d u         o                           |2.88\n",
      "   2.85|      x d           o 6                         |2.85\n",
      "   2.82|      x             o x 7 x                     |2.82\n",
      "   2.79|      x             o x d u d                   |2.79\n",
      "   2.76|      x             o x d u d                   |2.76\n",
      "   2.74|      x             o x d u d                   |2.74\n",
      "   2.71|      x             o x d   o                   |2.71\n",
      "   2.68|      x             o u     o     x             |2.68\n",
      "   2.66|      x             o u     o     x d           |2.66\n",
      "   2.63|      x             o 5     o     9 d           |2.63\n",
      "   2.60|      x             o       8     x d           |2.60\n",
      "   2.58|      x                     o     x d           |2.58\n",
      "   2.55|      x                     o u   u o           |2.55\n",
      "   2.53|      x                     o u d u o           |2.53\n",
      "   2.50|      x                     o u d u o           |2.50\n",
      "   2.48|      x                     o u d   A           |2.48\n",
      "   2.45|      x                     o u     o           |2.45\n",
      "   2.43|      x                     o       o           |2.43\n",
      "   2.40|  x   u                             o x         |2.40\n",
      "   2.38|  x d u                             o u d       |2.38\n",
      "   2.36|  x d u                             o u d       |2.36\n",
      "   2.33|  x d                               o u d       |2.33\n",
      "   2.31|                                    o   d       |2.31\n",
      "   2.29|                                        d       |2.29\n",
      "   2.27|                                        d x     |2.27\n",
      "   2.24|                                        o x B   |2.24\n",
      "   2.22|                                        o x d   |2.22\n",
      "   2.20|                                        o u d   |2.20\n",
      "   2.18|                                        o u o   |2.18\n",
      "   2.16|                                        o u o   |2.16\n",
      "   2.13|                                        o   C   |2.13\n",
      "   2.11|                                            o   |2.11\n",
      "   2.09|                                            o   |2.09\n",
      "   2.07|                                            o   |2.07\n",
      "   2.05|                                            o   |2.05\n",
      "   2.03|                                            o   |2.03\n",
      "   2.01|                                            o   |2.01\n",
      "   1.99|                                            o   |1.99\n",
      "   1.97|                                            o   |1.97\n",
      "   1.95|                                            o   |1.95\n",
      "   1.93|                                            o   |1.93\n",
      "   1.91|                                            o   |1.91\n",
      "   1.89|                                            1   |1.89\n",
      "   1.88|                                            o   |<< 1.87\n",
      "   1.86|                                                |1.86\n",
      "\n"
     ]
    }
   ],
   "source": [
    "# This function will generate an rs chart for two given securities\n",
    "def generate_rs_chart(numerator, denominator, historical_dfs):\n",
    "    ''' \n",
    "        This function will generate an RS chart of Numerator/Denominator usingn data from\n",
    "        historical dfs\n",
    "        \n",
    "        @param numerator: (str) Numerator ticker symbol\n",
    "        @param denominator: (str) Denominator ticker symbol\n",
    "        @param historical_dfs: (pd.DataFrame) Dataframe where each col is a ticker, and first entry is OHLC data \n",
    "                                for that ticker.\n",
    "    '''\n",
    "    # Create joint dataframe to hold RS data\n",
    "    rs_df = pd.DataFrame(columns = ['Open', 'High', 'Low', 'Close', 'Volume'])\n",
    "    \n",
    "    # Set 'Close' equal to ratio between two close prices on a daily basis\n",
    "    rs_df['Close'] = historical_dfs[numerator][0]['close'] / historical_dfs[denominator][0]['close']\n",
    "    \n",
    "    # Set other columns equal to same ratio (close/close), since this is the only value that matters\n",
    "    rs_df['High'] = rs_df['Close']\n",
    "    rs_df['Low'] = rs_df['Close']\n",
    "    rs_df['Open'] = rs_df['Close']\n",
    "    rs_df['Volume'] = rs_df['Close']\n",
    "    \n",
    "    # Format date for use with DataframeInstrument\n",
    "    rs_df['Date'] = df.index.astype(str)\n",
    "    rs_df['Date'] = df['Date'].str.slice(0,10)\n",
    "    rs_df['Volume'] = df['Volume'].astype(int)\n",
    "    \n",
    "    \n",
    "    # Create a new DataframeInstrument using this new dataframe\n",
    "    rs_instrument = DataframeInstrument('AAPL_MSFT', dataframe=rs_df)\n",
    "    \n",
    "    # Chart the RS data\n",
    "    # Create pf chart\n",
    "    chart = PFChart(rs_instrument)\n",
    "    chart.create_chart()\n",
    "    print(chart.chart)\n",
    "    \n",
    "generate_rs_chart('AAPL', 'MSFT', historical_dfs)"
   ]
  },
  {
   "cell_type": "code",
   "execution_count": 36,
   "metadata": {},
   "outputs": [
    {
     "name": "stdout",
     "output_type": "stream",
     "text": [
      "\n",
      "  AAPL_MSFT  (2016-01-05 o: 0.54 h: 0.54 l: 0.54 c: 0.54)\n",
      "  1.00% box, 3 box reversal, hl method\n",
      "  signal: buy status: bull confirmed\n",
      "\n",
      "   0.54|                                                                                |0.54\n",
      "   0.54|                                                                            1   |<< 0.54\n",
      "   0.53|                                                                            x   |0.53\n",
      "   0.52|                                                                            x   |0.52\n",
      "   0.52|                                                                            x   |0.52\n",
      "   0.51|                                                                            x   |0.51\n",
      "   0.51|                                                                            x   |0.51\n",
      "   0.50|                                                                            x   |0.50\n",
      "   0.50|                                                                            x   |0.50\n",
      "   0.49|                                                                            x   |0.49\n",
      "   0.49|                                                                            x   |0.49\n",
      "   0.48|                                                                            x   |0.48\n",
      "   0.48|                                                                            x   |0.48\n",
      "   0.47|                                                                            x   |0.47\n",
      "   0.47|                                                                            x   |0.47\n",
      "   0.47|                                                                    x   x   u   |0.47\n",
      "   0.46|                                                                    x d x d u   |0.46\n",
      "   0.46|                                                                    x d u d u   |0.46\n",
      "   0.45|                                                                    x d u d C   |0.45\n",
      "   0.45|                                                                    x d u d     |0.45\n",
      "   0.44|                                                                    x o B       |0.44\n",
      "   0.44|                                                                    u o         |0.44\n",
      "   0.43|                                                                    u           |0.43\n",
      "   0.43|                                                                    u           |0.43\n",
      "   0.43|    x                                                           x   u           |0.43\n",
      "   0.42|  d x d                                                         x d u           |0.42\n",
      "   0.42|  d u d                                                         x d u           |0.42\n",
      "   0.41|  d u d                                                         x d u           |0.41\n",
      "   0.41|  d u d                                                         x d u           |0.41\n",
      "   0.41|  d   d                                                 x   u   x d             |0.41\n",
      "   0.40|      o                                                 x d u d A               |0.40\n",
      "   0.40|      o                                                 x d u d x               |0.40\n",
      "   0.39|      o                                                 x d u d x               |0.39\n",
      "   0.39|      o                                                 x d u d x               |0.39\n",
      "   0.39|      o                             x                   x d   d x               |0.39\n",
      "   0.38|      o                             x 5                 8     9 x               |0.38\n",
      "   0.38|      o                             x d u               x     o u               |0.38\n",
      "   0.37|      o                             x d u d             x     o u               |0.37\n",
      "   0.37|      o                             x d u d             x     o u               |0.37\n",
      "   0.37|      o                             x d   d         x   x     o                 |0.37\n",
      "   0.36|      o                             x     o         x d x                       |0.36\n",
      "   0.36|      o                             x     o         x d x                       |0.36\n",
      "   0.36|      o                             u     o u   u   u d u                       |0.36\n",
      "   0.35|      o                             u     o u 6 u d u o u                       |0.35\n",
      "   0.35|      o                             u     o u d u d 7 o u                       |0.35\n",
      "   0.35|      o u                           u     o   d   d   o                         |0.35\n",
      "   0.34|      o u d                         u                                           |0.34\n",
      "   0.34|      o 2 d                         u                                           |0.34\n",
      "   0.34|      o   d u   u   u   u   u   u   u                                           |0.34\n",
      "   0.33|          o u d u 3 u d u d u d u d u                                           |0.33\n",
      "   0.33|          o u d u d u d u d u d u d u                                           |0.33\n",
      "   0.33|          o   d   d   d   d   d   d u                                           |0.33\n",
      "   0.32|                                  o 4                                           |0.32\n",
      "   0.32|                                  o                                             |0.32\n",
      "\n"
     ]
    }
   ],
   "source": [
    "generate_rs_chart('MSFT', 'AAPL', historical_dfs)"
   ]
  },
  {
   "cell_type": "code",
   "execution_count": null,
   "metadata": {},
   "outputs": [],
   "source": []
  }
 ],
 "metadata": {
  "kernelspec": {
   "display_name": "Python [conda env:julie-stav-ws]",
   "language": "python",
   "name": "conda-env-julie-stav-ws-py"
  },
  "language_info": {
   "codemirror_mode": {
    "name": "ipython",
    "version": 3
   },
   "file_extension": ".py",
   "mimetype": "text/x-python",
   "name": "python",
   "nbconvert_exporter": "python",
   "pygments_lexer": "ipython3",
   "version": "3.5.6"
  }
 },
 "nbformat": 4,
 "nbformat_minor": 2
}
