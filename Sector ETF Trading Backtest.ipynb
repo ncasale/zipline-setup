{
 "cells": [
  {
   "cell_type": "code",
   "execution_count": 57,
   "metadata": {},
   "outputs": [],
   "source": [
    "import pandas as pd\n",
    "from collections import OrderedDict\n",
    "import pytz\n",
    "import helper\n",
    "import pnf"
   ]
  },
  {
   "cell_type": "markdown",
   "metadata": {},
   "source": [
    "# Collect ETF data from API and create Pandas Panel\n",
    "Grab Sector ETF data from Alpha Vantage API and then save each ETF's data into a separate date-indexed CSV file."
   ]
  },
  {
   "cell_type": "code",
   "execution_count": 4,
   "metadata": {},
   "outputs": [
    {
     "name": "stdout",
     "output_type": "stream",
     "text": [
      "Processing ETF: XLI -- 9/9\r"
     ]
    }
   ],
   "source": [
    "etf_dfs = helper.get_sector_etf_dfs()"
   ]
  },
  {
   "cell_type": "code",
   "execution_count": 22,
   "metadata": {},
   "outputs": [
    {
     "name": "stdout",
     "output_type": "stream",
     "text": [
      "<class 'pandas.core.panel.Panel'>\n",
      "Dimensions: 9 (items) x 5072 (major_axis) x 5 (minor_axis)\n",
      "Items axis: XLK to XLI\n",
      "Major_axis axis: 1998-12-22 00:00:00+00:00 to 2019-02-20 00:00:00+00:00\n",
      "Minor_axis axis: Open to Volume\n"
     ]
    }
   ],
   "source": [
    "# Create OrderedDict out of etf_dfs\n",
    "tickers = etf_dfs.columns\n",
    "data = OrderedDict()\n",
    "minor_axis_fields = []\n",
    "for ticker in tickers:\n",
    "    data[ticker] = etf_dfs[ticker][0]\n",
    "    if len(minor_axis_fields) == 0:\n",
    "        minor_axis_fields = data[ticker].columns\n",
    "        \n",
    "# Create panel out of OrderedDict\n",
    "panel = pd.Panel(data)\n",
    "panel.minor_axis = minor_axis_fields\n",
    "panel.major_axis = pd.to_datetime(panel.major_axis)\n",
    "panel.major_axis = panel.major_axis.tz_localize(pytz.utc)"
   ]
  },
  {
   "cell_type": "markdown",
   "metadata": {},
   "source": [
    "# Generate Trading Strategy\n",
    "Create the trading strategy for a particular year. To do this, we will determine which sector ETF is the strongest performer on a monthly basis. This analysis will be done at the end of the month to inform trading for the following month. We will invest 100% of our portfolio into the best strongest ETF each month based on relative strength. At the end of the month, if the analysis shows that the strongest ETF is different that the ETF we are currently invested in, we will divest all money in the current ETF and invest 100% of capital into the ETF that has overtaken old ETF as the strongest."
   ]
  },
  {
   "cell_type": "code",
   "execution_count": 69,
   "metadata": {},
   "outputs": [],
   "source": [
    "def create_monthly_date_ranges(start_year, end_year):\n",
    "    '''\n",
    "        Create two lists representing the start/end dates of each month between start/end year, inclusive.\n",
    "        \n",
    "        @param start_year: (int) the first year in range\n",
    "        @param end_year: (int) the last yaer in range\n",
    "        \n",
    "        returns ([str]), ([str]): two lists -- the first is a list of start dates, the second is corresponding end\n",
    "                                dates. The format is YYYY-MM-DD.\n",
    "    '''\n",
    "    monthly_date_ranges = [\n",
    "        ('01-01', '01-31'),\n",
    "        ('02-01', '02-29'),\n",
    "        ('03-01', '03-31'),\n",
    "        ('04-01', '04-30'),\n",
    "        ('05-01', '05-31'),\n",
    "        ('06-01', '06-30'),\n",
    "        ('07-01', '07-31'),\n",
    "        ('08-01', '08-31'),\n",
    "        ('09-01', '09-30'),\n",
    "        ('10-01', '10-31'),\n",
    "        ('11-01', '11-30'),\n",
    "        ('12-01', '12-31')\n",
    "    ]\n",
    "\n",
    "    years = [str(x) for x in range(start_year, (end_year + 1))]\n",
    "    monthly_start_dates = []\n",
    "    monthly_end_dates = []\n",
    "    # Create start/end dates for each month\n",
    "    for year in years:\n",
    "        for date_range in monthly_date_ranges:\n",
    "            monthly_start_dates.append(year + '-' + date_range[0])\n",
    "            monthly_end_dates.append(year + '-' + date_range[1])\n",
    "                                   \n",
    "    return monthly_start_dates, monthly_end_dates"
   ]
  },
  {
   "cell_type": "code",
   "execution_count": 71,
   "metadata": {},
   "outputs": [
    {
     "name": "stdout",
     "output_type": "stream",
     "text": [
      "OrderedDict([('1999-02-01', 'XLK'), ('1999-03-01', 'XLF'), ('1999-04-01', 'XLK'), ('1999-05-01', 'XLB'), ('1999-06-01', 'XLE'), ('1999-07-01', 'XLK'), ('1999-08-01', 'XLE'), ('1999-09-01', 'XLP'), ('1999-10-01', 'XLU'), ('1999-11-01', 'XLF'), ('1999-12-01', 'XLE'), ('2000-01-01', 'XLI'), ('2000-02-01', 'XLU'), ('2000-03-01', 'XLE'), ('2000-04-01', 'XLB'), ('2000-05-01', 'XLF'), ('2000-06-01', 'XLF'), ('2000-07-01', 'XLP'), ('2000-08-01', 'XLF'), ('2000-09-01', 'XLK'), ('2000-10-01', 'XLU'), ('2000-11-01', 'XLB'), ('2000-12-01', 'XLF')])\n"
     ]
    }
   ],
   "source": [
    "# Run through each month in date range and get highest RS ETF for each month\n",
    "start_year = 1999\n",
    "end_year = 2000\n",
    "monthly_start_dates, monthly_end_dates = create_monthly_date_ranges(start_year, end_year)\n",
    "monthly_best_performers = OrderedDict()\n",
    "\n",
    "for idx in range(len(monthly_start_dates)):\n",
    "    start_date = monthly_start_dates[idx]\n",
    "    end_date = monthly_end_dates[idx]\n",
    "    \n",
    "    # Construct DF for this month\n",
    "    df = etf_dfs.copy()\n",
    "    for symbol in df.columns:\n",
    "        df[symbol][0] = df[symbol][0][start_date : end_date]\n",
    "        \n",
    "    # Create RS matrix for this month\n",
    "    rs_matrix = pnf.run_rs_matrix(df.columns, df)\n",
    "    \n",
    "    # Select the sector with the highest total and append to best performers dict. The key for\n",
    "    # this dict is the start date of the next month\n",
    "    best_sector = rs_matrix['total'].idxmax()\n",
    "    if idx != (len(monthly_start_dates) - 1):\n",
    "        monthly_best_performers[monthly_start_dates[idx + 1]] = best_sector\n",
    "    \n",
    "    print('Running RS matrix for {0} - {1}'.format(start_date, end_date), end='\\r', flush=True)\n",
    "    \n",
    "print(monthly_best_performers)"
   ]
  },
  {
   "cell_type": "code",
   "execution_count": null,
   "metadata": {},
   "outputs": [],
   "source": []
  }
 ],
 "metadata": {
  "kernelspec": {
   "display_name": "Python [conda env:julie-stav-ws]",
   "language": "python",
   "name": "conda-env-julie-stav-ws-py"
  },
  "language_info": {
   "codemirror_mode": {
    "name": "ipython",
    "version": 3
   },
   "file_extension": ".py",
   "mimetype": "text/x-python",
   "name": "python",
   "nbconvert_exporter": "python",
   "pygments_lexer": "ipython3",
   "version": "3.5.6"
  }
 },
 "nbformat": 4,
 "nbformat_minor": 2
}
