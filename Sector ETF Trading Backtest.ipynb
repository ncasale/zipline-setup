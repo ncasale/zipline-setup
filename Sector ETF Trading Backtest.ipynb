{
 "cells": [
  {
   "cell_type": "code",
   "execution_count": 5,
   "metadata": {},
   "outputs": [],
   "source": [
    "import pandas as pd\n",
    "from collections import OrderedDict\n",
    "import pytz\n",
    "import helper\n",
    "import pnf\n",
    "\n",
    "# Suppress Warnings\n",
    "import warnings\n",
    "warnings.filterwarnings('ignore')"
   ]
  },
  {
   "cell_type": "markdown",
   "metadata": {},
   "source": [
    "# Collect ETF data from API and create Pandas Panel\n",
    "Grab Sector ETF data from Alpha Vantage API and then save each ETF's data into a separate date-indexed CSV file."
   ]
  },
  {
   "cell_type": "code",
   "execution_count": 4,
   "metadata": {},
   "outputs": [
    {
     "name": "stdout",
     "output_type": "stream",
     "text": [
      "Obtaining Data for XLK -- 9/9\r"
     ]
    },
    {
     "name": "stderr",
     "output_type": "stream",
     "text": [
      "/Users/nate/anaconda3/envs/julie-stav-ws/lib/python3.5/site-packages/ipykernel/__main__.py:1: DeprecationWarning: \n",
      "Panel is deprecated and will be removed in a future version.\n",
      "The recommended way to represent these types of 3-dimensional data are with a MultiIndex on a DataFrame, via the Panel.to_frame() method\n",
      "Alternatively, you can use the xarray package http://xarray.pydata.org/en/stable/.\n",
      "Pandas provides a `.to_xarray()` method to help automate this conversion.\n",
      "\n",
      "  if __name__ == '__main__':\n"
     ]
    }
   ],
   "source": [
    "etf_panel = helper.get_sector_etf_panel()"
   ]
  },
  {
   "cell_type": "markdown",
   "metadata": {},
   "source": [
    "# Generate Trading Strategy\n",
    "Create the trading strategy for a particular year. To do this, we will determine which sector ETF is the strongest performer on a monthly basis. This analysis will be done at the end of the month to inform trading for the following month. We will invest 100% of our portfolio into the best strongest ETF each month based on relative strength. At the end of the month, if the analysis shows that the strongest ETF is different that the ETF we are currently invested in, we will divest all money in the current ETF and invest 100% of capital into the ETF that has overtaken old ETF as the strongest."
   ]
  },
  {
   "cell_type": "code",
   "execution_count": 15,
   "metadata": {},
   "outputs": [
    {
     "name": "stdout",
     "output_type": "stream",
     "text": [
      "OrderedDict([('1999-02-01', 'XLK'), ('1999-03-01', 'XLF'), ('1999-04-01', 'XLK'), ('1999-05-01', 'XLB'), ('1999-06-01', 'XLE'), ('1999-07-01', 'XLK'), ('1999-08-01', 'XLE'), ('1999-09-01', 'XLP'), ('1999-10-01', 'XLU'), ('1999-11-01', 'XLF'), ('1999-12-01', 'XLE'), ('2000-01-01', 'XLI'), ('2000-02-01', 'XLU'), ('2000-03-01', 'XLE'), ('2000-04-01', 'XLI'), ('2000-05-01', 'XLI'), ('2000-06-01', 'XLF'), ('2000-07-01', 'XLP'), ('2000-08-01', 'XLF'), ('2000-09-01', 'XLK'), ('2000-10-01', 'XLU'), ('2000-11-01', 'XLB'), ('2000-12-01', 'XLP')])\n"
     ]
    }
   ],
   "source": [
    "# Run through each month in date range and get highest RS ETF for each month\n",
    "start_year = 1999\n",
    "end_year = 2000\n",
    "monthly_start_dates, monthly_end_dates = helper.create_monthly_date_ranges(start_year, end_year)\n",
    "monthly_best_performers = OrderedDict()\n",
    "\n",
    "for idx in range(len(monthly_start_dates)):\n",
    "    start_date = monthly_start_dates[idx]\n",
    "    end_date = monthly_end_dates[idx]\n",
    "    \n",
    "    # Construct panel for this month\n",
    "    panel = etf_panel.copy()\n",
    "    for symbol in list(etf_panel.items):\n",
    "        panel[symbol] = panel[symbol][start_date : end_date]\n",
    "    panel = panel.dropna(axis=1)\n",
    "        \n",
    "    # Create RS matrix for this month\n",
    "    rs_matrix = pnf.run_rs_matrix(panel)\n",
    "    \n",
    "    # Select the sector with the highest total and append to best performers dict. The key for\n",
    "    # this dict is the start date of the next month\n",
    "    best_sector = rs_matrix['total'].idxmax()\n",
    "    if idx != (len(monthly_start_dates) - 1):\n",
    "        monthly_best_performers[monthly_start_dates[idx + 1]] = best_sector\n",
    "    \n",
    "    print('Running RS matrix for {0} - {1}'.format(start_date, end_date), end='\\r', flush=True)\n",
    "    \n",
    "print(monthly_best_performers)"
   ]
  }
 ],
 "metadata": {
  "kernelspec": {
   "display_name": "Python [conda env:julie-stav-ws]",
   "language": "python",
   "name": "conda-env-julie-stav-ws-py"
  },
  "language_info": {
   "codemirror_mode": {
    "name": "ipython",
    "version": 3
   },
   "file_extension": ".py",
   "mimetype": "text/x-python",
   "name": "python",
   "nbconvert_exporter": "python",
   "pygments_lexer": "ipython3",
   "version": "3.5.6"
  }
 },
 "nbformat": 4,
 "nbformat_minor": 2
}
